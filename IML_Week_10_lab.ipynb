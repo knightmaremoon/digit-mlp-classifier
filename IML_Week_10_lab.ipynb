{
 "cells": [
  {
   "cell_type": "markdown",
   "metadata": {},
   "source": [
    "**COMP3670/6670 Tutorial Week 10**\n",
    "---"
   ]
  },
  {
   "cell_type": "code",
   "execution_count": 1,
   "metadata": {},
   "outputs": [],
   "source": [
    "import numpy as np\n",
    "import matplotlib.pyplot as plt"
   ]
  },
  {
   "cell_type": "markdown",
   "metadata": {},
   "source": [
    "# Task 0: MNIST Dataset (Recap)"
   ]
  },
  {
   "cell_type": "code",
   "execution_count": 2,
   "metadata": {},
   "outputs": [
    {
     "data": {
      "image/png": "[encoded data removed]",
      "text/plain": [
       "<Figure size 480x480 with 1 Axes>"
      ]
     },
     "metadata": {},
     "output_type": "display_data"
    }
   ],
   "source": [
    "from sklearn import datasets\n",
    "from sklearn.model_selection import train_test_split\n",
    "digits,labels = datasets.load_digits(return_X_y=True)\n",
    "X = digits\n",
    "y = labels\n",
    "\n",
    "def print_heatmap(data, l=8, h=8):\n",
    "    plt.matshow(data.reshape(l,h), cmap=plt.cm.gray)\n",
    "\n",
    "print_heatmap(X[42]) #print digits\n"
   ]
  },
  {
   "cell_type": "code",
   "execution_count": 3,
   "metadata": {},
   "outputs": [
    {
     "name": "stdout",
     "output_type": "stream",
     "text": [
      "Total dataset (1797, 64)\n",
      "Split dataset (Train) (898, 64)\n",
      "Split dataset (Test) (899, 64)\n"
     ]
    }
   ],
   "source": [
    "TEST_SIZE = 0.5\n",
    "X_train, X_test, y_train, y_test = train_test_split(X, y, random_state=0, test_size=TEST_SIZE)\n",
    "\n",
    "print(\"Total dataset\", np.shape(X))\n",
    "print(\"Split dataset (Train)\", np.shape(X_train))\n",
    "print(\"Split dataset (Test)\", np.shape(X_test))"
   ]
  },
  {
   "cell_type": "markdown",
   "metadata": {},
   "source": [
    "# MLP"
   ]
  },
  {
   "cell_type": "code",
   "execution_count": 10,
   "metadata": {},
   "outputs": [
    {
     "name": "stdout",
     "output_type": "stream",
     "text": [
      "Iteration 1, loss = 2.34044205\n",
      "Iteration 2, loss = 2.28904854\n",
      "Iteration 3, loss = 2.25326421\n",
      "Iteration 4, loss = 2.22438734\n",
      "Iteration 5, loss = 2.19880868\n",
      "Iteration 6, loss = 2.17189864\n",
      "Iteration 7, loss = 2.14282846\n",
      "Iteration 8, loss = 2.11209224\n",
      "Iteration 9, loss = 2.07913311\n",
      "Iteration 10, loss = 2.04401215\n",
      "Iteration 11, loss = 2.00795253\n",
      "Iteration 12, loss = 1.96959026\n",
      "Iteration 13, loss = 1.92995666\n",
      "Iteration 14, loss = 1.88816186\n",
      "Iteration 15, loss = 1.84509412\n",
      "Iteration 16, loss = 1.80198176\n",
      "Iteration 17, loss = 1.75703612\n",
      "Iteration 18, loss = 1.71291903\n",
      "Iteration 19, loss = 1.66899055\n",
      "Iteration 20, loss = 1.62404870\n",
      "Iteration 21, loss = 1.57952667\n",
      "Iteration 22, loss = 1.53585774\n",
      "Iteration 23, loss = 1.49224443\n",
      "Iteration 24, loss = 1.44904753\n",
      "Iteration 25, loss = 1.40644664\n",
      "Iteration 26, loss = 1.36462321\n",
      "Iteration 27, loss = 1.32301460\n",
      "Iteration 28, loss = 1.28232748\n",
      "Iteration 29, loss = 1.24207900\n",
      "Iteration 30, loss = 1.20335532\n",
      "Iteration 31, loss = 1.16509165\n",
      "Iteration 32, loss = 1.12728393\n",
      "Iteration 33, loss = 1.09083447\n",
      "Iteration 34, loss = 1.05441729\n",
      "Iteration 35, loss = 1.02001095\n",
      "Iteration 36, loss = 0.98640059\n",
      "Iteration 37, loss = 0.95288160\n",
      "Iteration 38, loss = 0.92087026\n",
      "Iteration 39, loss = 0.89009389\n",
      "Iteration 40, loss = 0.86029423\n",
      "Iteration 41, loss = 0.83135954\n",
      "Iteration 42, loss = 0.80386165\n",
      "Iteration 43, loss = 0.77684838\n",
      "Iteration 44, loss = 0.75079559\n",
      "Iteration 45, loss = 0.72554492\n",
      "Iteration 46, loss = 0.70106100\n",
      "Iteration 47, loss = 0.67795288\n",
      "Iteration 48, loss = 0.65493165\n",
      "Iteration 49, loss = 0.63350917\n",
      "Iteration 50, loss = 0.61248426\n",
      "Iteration 51, loss = 0.59193285\n",
      "Iteration 52, loss = 0.57258142\n",
      "Iteration 53, loss = 0.55367701\n",
      "Iteration 54, loss = 0.53569518\n",
      "Iteration 55, loss = 0.51838225\n",
      "Iteration 56, loss = 0.50126067\n",
      "Iteration 57, loss = 0.48520662\n",
      "Iteration 58, loss = 0.46965658\n",
      "Iteration 59, loss = 0.45510594\n",
      "Iteration 60, loss = 0.44062986\n",
      "Iteration 61, loss = 0.42657601\n",
      "Iteration 62, loss = 0.41344398\n",
      "Iteration 63, loss = 0.40048325\n",
      "Iteration 64, loss = 0.38866738\n",
      "Iteration 65, loss = 0.37653470\n",
      "Iteration 66, loss = 0.36555750\n",
      "Iteration 67, loss = 0.35469706\n",
      "Iteration 68, loss = 0.34389121\n",
      "Iteration 69, loss = 0.33367641\n",
      "Iteration 70, loss = 0.32414317\n",
      "Iteration 71, loss = 0.31512168\n",
      "Iteration 72, loss = 0.30590079\n",
      "Iteration 73, loss = 0.29778535\n",
      "Iteration 74, loss = 0.28950875\n",
      "Iteration 75, loss = 0.28108454\n",
      "Iteration 76, loss = 0.27363912\n",
      "Iteration 77, loss = 0.26607763\n",
      "Iteration 78, loss = 0.25885052\n",
      "Iteration 79, loss = 0.25193268\n",
      "Iteration 80, loss = 0.24543448\n",
      "Iteration 81, loss = 0.23937678\n",
      "Iteration 82, loss = 0.23360139\n",
      "Iteration 83, loss = 0.22693545\n",
      "Iteration 84, loss = 0.22175984\n",
      "Iteration 85, loss = 0.21647444\n",
      "Iteration 86, loss = 0.21072807\n",
      "Iteration 87, loss = 0.20531973\n",
      "Iteration 88, loss = 0.20139182\n",
      "Iteration 89, loss = 0.19607514\n",
      "Iteration 90, loss = 0.19114166\n",
      "Iteration 91, loss = 0.18672584\n",
      "Iteration 92, loss = 0.18243242\n",
      "Iteration 93, loss = 0.17828572\n",
      "Iteration 94, loss = 0.17453969\n",
      "Iteration 95, loss = 0.17074412\n",
      "Iteration 96, loss = 0.16674619\n",
      "Iteration 97, loss = 0.16287119\n",
      "Iteration 98, loss = 0.15945854\n",
      "Iteration 99, loss = 0.15634746\n",
      "Iteration 100, loss = 0.15280876\n",
      "Iteration 101, loss = 0.14945120\n",
      "Iteration 102, loss = 0.14663088\n",
      "Iteration 103, loss = 0.14332544\n",
      "Iteration 104, loss = 0.14028473\n",
      "Iteration 105, loss = 0.13781976\n",
      "Iteration 106, loss = 0.13474320\n",
      "Iteration 107, loss = 0.13214995\n",
      "Iteration 108, loss = 0.12948792\n",
      "Iteration 109, loss = 0.12711373\n",
      "Iteration 110, loss = 0.12462251\n",
      "Iteration 111, loss = 0.12214163\n",
      "Iteration 112, loss = 0.11989172\n",
      "Iteration 113, loss = 0.11735233\n",
      "Iteration 114, loss = 0.11525764\n",
      "Iteration 115, loss = 0.11310450\n",
      "Iteration 116, loss = 0.11098851\n",
      "Iteration 117, loss = 0.10883569\n",
      "Iteration 118, loss = 0.10674242\n",
      "Iteration 119, loss = 0.10489850\n",
      "Iteration 120, loss = 0.10297415\n",
      "Iteration 121, loss = 0.10125419\n",
      "Iteration 122, loss = 0.09933277\n",
      "Iteration 123, loss = 0.09765806\n",
      "Iteration 124, loss = 0.09613728\n",
      "Iteration 125, loss = 0.09447961\n",
      "Iteration 126, loss = 0.09269312\n",
      "Iteration 127, loss = 0.09110492\n",
      "Iteration 128, loss = 0.08959117\n",
      "Iteration 129, loss = 0.08802975\n",
      "Iteration 130, loss = 0.08680751\n",
      "Iteration 131, loss = 0.08520412\n",
      "Iteration 132, loss = 0.08360074\n",
      "Iteration 133, loss = 0.08240232\n",
      "Iteration 134, loss = 0.08101119\n",
      "Iteration 135, loss = 0.07969985\n",
      "Iteration 136, loss = 0.07845878\n",
      "Iteration 137, loss = 0.07718875\n",
      "Iteration 138, loss = 0.07605002\n",
      "Iteration 139, loss = 0.07481329\n",
      "Iteration 140, loss = 0.07358285\n",
      "Iteration 141, loss = 0.07263536\n",
      "Iteration 142, loss = 0.07153042\n",
      "Iteration 143, loss = 0.07032771\n",
      "Iteration 144, loss = 0.06941036\n",
      "Iteration 145, loss = 0.06831508\n",
      "Iteration 146, loss = 0.06729952\n",
      "Iteration 147, loss = 0.06633180\n",
      "Iteration 148, loss = 0.06529494\n",
      "Iteration 149, loss = 0.06435871\n",
      "Iteration 150, loss = 0.06349391\n",
      "Iteration 151, loss = 0.06249147\n",
      "Iteration 152, loss = 0.06168588\n",
      "Iteration 153, loss = 0.06086754\n",
      "Iteration 154, loss = 0.05981265\n",
      "Iteration 155, loss = 0.05908557\n",
      "Iteration 156, loss = 0.05828274\n",
      "Iteration 157, loss = 0.05736954\n",
      "Iteration 158, loss = 0.05661476\n",
      "Iteration 159, loss = 0.05585692\n",
      "Iteration 160, loss = 0.05506141\n",
      "Iteration 161, loss = 0.05427757\n",
      "Iteration 162, loss = 0.05351870\n",
      "Iteration 163, loss = 0.05290293\n",
      "Iteration 164, loss = 0.05221883\n",
      "Iteration 165, loss = 0.05145503\n",
      "Iteration 166, loss = 0.05076102\n",
      "Iteration 167, loss = 0.05011942\n",
      "Iteration 168, loss = 0.04947224\n",
      "Iteration 169, loss = 0.04880038\n",
      "Iteration 170, loss = 0.04827996\n",
      "Iteration 171, loss = 0.04765591\n",
      "Iteration 172, loss = 0.04697957\n",
      "Iteration 173, loss = 0.04646250\n",
      "Iteration 174, loss = 0.04587856\n",
      "Iteration 175, loss = 0.04531299\n",
      "Iteration 176, loss = 0.04469706\n",
      "Iteration 177, loss = 0.04422539\n",
      "Iteration 178, loss = 0.04361749\n",
      "Iteration 179, loss = 0.04308982\n",
      "Iteration 180, loss = 0.04260823\n",
      "Iteration 181, loss = 0.04207642\n",
      "Iteration 182, loss = 0.04161194\n",
      "Iteration 183, loss = 0.04109426\n",
      "Iteration 184, loss = 0.04060814\n",
      "Iteration 185, loss = 0.04007447\n",
      "Iteration 186, loss = 0.03969673\n",
      "Iteration 187, loss = 0.03919705\n",
      "Iteration 188, loss = 0.03873031\n",
      "Iteration 189, loss = 0.03831882\n",
      "Iteration 190, loss = 0.03786580\n",
      "Iteration 191, loss = 0.03740047\n",
      "Iteration 192, loss = 0.03701710\n",
      "Iteration 193, loss = 0.03659394\n",
      "Iteration 194, loss = 0.03620799\n",
      "Iteration 195, loss = 0.03585062\n",
      "Iteration 196, loss = 0.03537489\n",
      "Iteration 197, loss = 0.03498866\n",
      "Iteration 198, loss = 0.03463642\n",
      "Iteration 199, loss = 0.03421812\n",
      "Iteration 200, loss = 0.03385300\n",
      "Training set score: 1.000000\n",
      "Test set score: 0.958843\n"
     ]
    }
   ],
   "source": [
    "import warnings\n",
    "from sklearn.exceptions import ConvergenceWarning\n",
    "from sklearn.neural_network import MLPClassifier\n",
    "\n",
    "#The MLP input layer has 64 pixel inputs (8x8 image). The output layer predicts 10 labels. \n",
    "#Hidden layers form connected perceptron between input and output layers.\n",
    "#(64,32) denotes a first layer with 64 perceptrons connected to the input layer, \n",
    "#then another hidden layer with 32 perceptrons connected to the first hidden layer\n",
    "#and to the output layer. How do these choices matter? \n",
    "# More hidden layers (e.g., (64, 32)) allow the network to learn more complex features and patterns, \n",
    "# which is suitable for complex problems. However, too many hidden layers may lead to overfitting, especially when the training data is insufficient.\n",
    "# Fewer hidden layers (e.g., (64,)) make the network simpler and train faster, but it may not be able to learn complex enough features.\n",
    "hidden_layers = (64,32)\n",
    "# hidden_layers = (64,)\n",
    "max_iterations = 200\n",
    "#Max iterations is set to 10. Can you set it higher? Will a higher value ensure every iteration is used?\n",
    "# Not necessarily. The model may converge before reaching the maximum number of iterations (i.e., when the error reduction is no longer significant), \n",
    "# so it might not need to use all the iterations. If the model converges early, the iterations will stop.\n",
    "\n",
    "mlp = MLPClassifier(hidden_layer_sizes=hidden_layers, max_iter=max_iterations, activation = 'logistic', random_state=42, verbose=1)\n",
    "\n",
    "with warnings.catch_warnings():\n",
    "    warnings.filterwarnings(\"ignore\", category=ConvergenceWarning, module=\"sklearn\")\n",
    "    mlp.fit(X_train, y_train) #Code to catch convergence warnings\n",
    "\n",
    "print(\"Training set score: %f\" % mlp.score(X_train, y_train))\n",
    "print(\"Test set score: %f\" % mlp.score(X_test, y_test))\n",
    "\n"
   ]
  },
  {
   "cell_type": "code",
   "execution_count": 11,
   "metadata": {},
   "outputs": [
    {
     "data": {
      "image/png": "[encoded data removed]",
      "text/plain": [
       "<Figure size 3000x300 with 64 Axes>"
      ]
     },
     "metadata": {},
     "output_type": "display_data"
    },
    {
     "data": {
      "image/png": "[encoded data removed]",
      "text/plain": [
       "<Figure size 3000x300 with 32 Axes>"
      ]
     },
     "metadata": {},
     "output_type": "display_data"
    }
   ],
   "source": [
    "#Visualising hidden layer weights\n",
    "import math\n",
    "for i, layer in enumerate(hidden_layers):\n",
    "    fig, axes = plt.subplots(1, layer, figsize=(30, 3))\n",
    "    vmin, vmax = mlp.coefs_[i].min(), mlp.coefs_[i].max()\n",
    "    for coef, ax in zip(mlp.coefs_[i].T, axes.ravel()):\n",
    "        #display square subset\n",
    "        mat_side = math.floor(math.sqrt(len(coef)))\n",
    "        #For visualising only showing the largest square matrix the weights represent\n",
    "        ax.matshow(coef[:mat_side*mat_side].reshape(mat_side, mat_side), cmap=plt.cm.gray, vmin=vmin, vmax=vmax)\n",
    "        ax.set_xticks(())\n",
    "        ax.set_yticks(())\n",
    "    \n",
    "plt.show()"
   ]
  },
  {
   "cell_type": "markdown",
   "metadata": {},
   "source": [
    "# Task: Test score vs max iterations"
   ]
  },
  {
   "cell_type": "code",
   "execution_count": null,
   "metadata": {},
   "outputs": [],
   "source": [
    "#Can you try the same MLP with different max_iterations up to 1000? What is the test score mlp.score(X_test, y_test)?\n",
    "#Try to plot this"
   ]
  },
  {
   "cell_type": "markdown",
   "metadata": {},
   "source": [
    "# Task: Test score vs architecture"
   ]
  },
  {
   "cell_type": "code",
   "execution_count": null,
   "metadata": {},
   "outputs": [],
   "source": [
    "#For this task set the maximum iterations to be 1000.\n",
    "#Is there a 'best' architecture? \n",
    "#What about wider networks (62) or (128)?\n",
    "#What about deeper networks (64,64) or (64,32) or (32,32,32)?\n",
    "#Can you check the test score for different architectures?\n"
   ]
  },
  {
   "cell_type": "markdown",
   "metadata": {},
   "source": [
    "# Probabilities of Detections"
   ]
  },
  {
   "cell_type": "code",
   "execution_count": null,
   "metadata": {},
   "outputs": [],
   "source": [
    "def plot_detection_probabilities(entry):\n",
    "    probabilities = mlp.predict_proba([entry])[0]\n",
    "    # print(np.sum(probabilities)) #What do you think this should be? \n",
    "    plt.bar(np.arange(10), probabilities, color='k')\n",
    "    plt.xticks(np.arange(10))\n",
    "    plt.ylabel(\"probability\")\n",
    "    plt.xlabel(\"digit labels\")\n",
    "    plt.show()\n"
   ]
  },
  {
   "cell_type": "code",
   "execution_count": null,
   "metadata": {},
   "outputs": [],
   "source": [
    "plot_detection_probabilities(X_test[42])\n",
    "print_heatmap(X_test[42])"
   ]
  },
  {
   "cell_type": "markdown",
   "metadata": {},
   "source": [
    "# Task: High confidence vs low confidence classifications"
   ]
  },
  {
   "cell_type": "code",
   "execution_count": null,
   "metadata": {},
   "outputs": [],
   "source": [
    "#Try different entries from the test set to see if you can find a low confidence example\n",
    "#What would such an example look like in the probability distribution plot?"
   ]
  }
 ],
 "metadata": {
  "kernelspec": {
   "display_name": "Python 3",
   "language": "python",
   "name": "python3"
  },
  "language_info": {
   "codemirror_mode": {
    "name": "ipython",
    "version": 3
   },
   "file_extension": ".py",
   "mimetype": "text/x-python",
   "name": "python",
   "nbconvert_exporter": "python",
   "pygments_lexer": "ipython3",
   "version": "3.11.9"
  }
 },
 "nbformat": 4,
 "nbformat_minor": 4
}
